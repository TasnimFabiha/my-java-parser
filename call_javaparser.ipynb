{
 "cells": [
  {
   "cell_type": "code",
   "execution_count": 7,
   "id": "4c922e0d",
   "metadata": {},
   "outputs": [
    {
     "name": "stdout",
     "output_type": "stream",
     "text": [
      "Output: methods,645\n",
      "classes,93\n",
      "interfaces,0\n",
      "enums,4\n",
      "loc,9239\n",
      "\n"
     ]
    }
   ],
   "source": [
    "import subprocess\n",
    "\n",
    "def run_metrics_jar(project_dir, jar_path):\n",
    "    cmd = [\n",
    "        \"java\",\n",
    "        \"-jar\", jar_path,\n",
    "        # \"-cp\", jar_path,\n",
    "        # \"com.example.JavaParserMetrics\",\n",
    "        project_dir\n",
    "    ]\n",
    "    result = subprocess.run(cmd, stdout=subprocess.PIPE, stderr=subprocess.PIPE, text=True)\n",
    "\n",
    "    if result.returncode != 0:\n",
    "        print(\"Error:\", result.stderr)\n",
    "    else:\n",
    "        print(\"Output:\", result.stdout)\n",
    "\n",
    "\n",
    "if __name__ == \"__main__\":\n",
    "    run_metrics_jar(\n",
    "        # \"/Users/fabiha/Documents/mono2micro/mono2micro/petclinic/petclinic_5.3.22_kieker_instrumented/spring-framework-petclinic-5.3.22/\",\n",
    "        # \"/Users/fabiha/Documents/mono2micro/mono2micro/petclinic/petclinic_5.3.22_kieker_instrumented/spring-framework-petclinic-5.3.22/src/main/java/org/springframework/samples\",\n",
    "        # \"/Users/fabiha/Documents/mono2micro/mono2micro/jpet-6-master/jpetstore-6/src/main/java/org/mybatis/jpetstore\",\n",
    "        # \"/Users/fabiha/Documents/mono2micro/mono2micro/roller/roller/app/src/main\",\n",
    "        # \"/Users/fabiha/Documents/mono2micro/mono2micro/roller/roller/app/src/main/java/org/apache/roller\",\n",
    "        \"/Users/fabiha/Documents/mono2micro/mono2micro/edition-modular-monolith/front-end/src/main/java/pt/ist/socialsoftware/edition/ldod/frontend/\",\n",
    "        \"/Users/fabiha/Documents/mono2micro/mono2micro/my-java-parser/target/my-java-parser-1.0-SNAPSHOT.jar\"\n",
    "    )\n"
   ]
  }
 ],
 "metadata": {
  "kernelspec": {
   "display_name": "rl_env",
   "language": "python",
   "name": "python3"
  },
  "language_info": {
   "codemirror_mode": {
    "name": "ipython",
    "version": 3
   },
   "file_extension": ".py",
   "mimetype": "text/x-python",
   "name": "python",
   "nbconvert_exporter": "python",
   "pygments_lexer": "ipython3",
   "version": "3.10.16"
  }
 },
 "nbformat": 4,
 "nbformat_minor": 5
}
